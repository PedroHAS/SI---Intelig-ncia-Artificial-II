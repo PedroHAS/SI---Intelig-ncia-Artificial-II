{
  "nbformat": 4,
  "nbformat_minor": 0,
  "metadata": {
    "colab": {
      "provenance": [],
      "authorship_tag": "ABX9TyO0+8+fGNi3ky5Yt10D5m7O",
      "include_colab_link": true
    },
    "kernelspec": {
      "name": "python3",
      "display_name": "Python 3"
    },
    "language_info": {
      "name": "python"
    }
  },
  "cells": [
    {
      "cell_type": "markdown",
      "metadata": {
        "id": "view-in-github",
        "colab_type": "text"
      },
      "source": [
        "<a href=\"https://colab.research.google.com/github/PedroHAS/SI---Intelig-ncia-Artificial-II/blob/main/Aula_2_Atividade.ipynb\" target=\"_parent\"><img src=\"https://colab.research.google.com/assets/colab-badge.svg\" alt=\"Open In Colab\"/></a>"
      ]
    },
    {
      "cell_type": "code",
      "execution_count": null,
      "metadata": {
        "colab": {
          "base_uri": "https://localhost:8080/"
        },
        "id": "F-cK8BMdgkoq",
        "outputId": "30b50516-6f0a-4f93-837e-e024a1dfcc06"
      },
      "outputs": [
        {
          "output_type": "stream",
          "name": "stdout",
          "text": [
            "Qual é a sua dieta? (Vegetariano/Não Vegetariano): Não vegetariano\n",
            "Você tem alguma restrição? (Sem Glúten/Com Glúten): com gluten\n",
            "Prefere refeições rápidas ou detalhadas? (Rápido/Detalhado): rapida\n",
            "Nenhuma recomendação disponível para suas preferências.\n"
          ]
        }
      ],
      "source": [
        "refeicoes = [\n",
        "    {\"Nome\": \"Salada de Quinoa com Legumes\", \"Dieta\": \"Vegetariano\", \"Restrição\": \"Sem Glúten\", \"Preferencia\": \"Rápido\"},\n",
        "    {\"Nome\": \"Lasanha de Berinjela\", \"Dieta\": \"Vegetariano\", \"Restrição\": \"Sem Glúten\", \"Preferencia\": \"Detalhado\"},\n",
        "    {\"Nome\": \"Frango Grelhado com Arroz Integral\", \"Dieta\": \"Não Vegetariano\", \"Restrição\": \"Sem Glúten\", \"Preferencia\": \"Rápido\"},\n",
        "    {\"Nome\": \"Filé de Peixe com Legumes\", \"Dieta\": \"Não Vegetariano\", \"Restrição\": \"Sem Glúten\", \"Preferencia\": \"Detalhado\"},\n",
        "    {\"Nome\": \"Massa Vegetariana\", \"Dieta\": \"Vegetariano\", \"Restrição\": \"Com Glúten\", \"Preferencia\": \"Rápido\"},\n",
        "    {\"Nome\": \"Pizza Vegetariana\", \"Dieta\": \"Vegetariano\", \"Restrição\": \"Com Glúten\", \"Preferencia\": \"Detalhado\"},\n",
        "    {\"Nome\": \"Bife com Batata Assada\", \"Dieta\": \"Não Vegetariano\", \"Restrição\": \"Com Glúten\", \"Preferencia\": \"Rápido\"},\n",
        "    {\"Nome\": \"Lasanha de Carne\", \"Dieta\": \"Não Vegetariano\", \"Restrição\": \"Com Glúten\", \"Preferencia\": \"Detalhado\"},\n",
        "]\n",
        "\n",
        "regras = [\n",
        "    {\"Condição\": {\"Dieta\": \"Vegetariano\", \"Restrição\": \"Sem Glúten\", \"Preferencia\": \"Rápido\"}, \"Recomendação\": [\"Salada de Quinoa com Legumes\"]},\n",
        "    {\"Condição\": {\"Dieta\": \"Vegetariano\", \"Restrição\": \"Sem Glúten\", \"Preferencia\": \"Detalhado\"}, \"Recomendação\": [\"Lasanha de Berinjela\"]},\n",
        "    {\"Condição\": {\"Dieta\": \"Não Vegetariano\", \"Restrição\": \"Sem Glúten\", \"Preferencia\": \"Rápido\"}, \"Recomendação\": [\"Frango Grelhado com Arroz Integral\"]},\n",
        "    {\"Condição\": {\"Dieta\": \"Não Vegetariano\", \"Restrição\": \"Sem Glúten\", \"Preferencia\": \"Detalhado\"}, \"Recomendação\": [\"Filé de Peixe com Legumes\"]},\n",
        "    {\"Condição\": {\"Dieta\": \"Vegetariano\", \"Restrição\": \"Com Glúten\", \"Preferencia\": \"Rápido\"}, \"Recomendação\": [\"Massa Vegetariana\"]},\n",
        "    {\"Condição\": {\"Dieta\": \"Vegetariano\", \"Restrição\": \"Com Glúten\", \"Preferencia\": \"Detalhado\"}, \"Recomendação\": [\"Pizza Vegetariana\"]},\n",
        "    {\"Condição\": {\"Dieta\": \"Não Vegetariano\", \"Restrição\": \"Com Glúten\", \"Preferencia\": \"Rápido\"}, \"Recomendação\": [\"Bife com Batata Assada\"]},\n",
        "    {\"Condição\": {\"Dieta\": \"Não Vegetariano\", \"Restrição\": \"Com Glúten\", \"Preferencia\": \"Detalhado\"}, \"Recomendação\": [\"Lasanha de Carne\"]},\n",
        "]\n",
        "\n",
        "def recomendar_refeicoes(preferencias):\n",
        "    recomendacoes = []\n",
        "    for regra in regras:\n",
        "        condicao = regra[\"Condição\"]\n",
        "        if (preferencias[\"Dieta\"] == condicao[\"Dieta\"] and\n",
        "                preferencias[\"Restrição\"] == condicao[\"Restrição\"] and\n",
        "                preferencias[\"Preferencia\"] == condicao[\"Preferencia\"]):\n",
        "            recomendacoes.extend(regra[\"Recomendação\"])\n",
        "    return recomendacoes\n",
        "\n",
        "def main():\n",
        "    dieta = input(\"Qual é a sua dieta? (Vegetariano/Não Vegetariano): \")\n",
        "    restricao = input(\"Você tem alguma restrição? (Sem Glúten/Com Glúten): \")\n",
        "    preferencia = input(\"Prefere refeições rápidas ou detalhadas? (Rápido/Detalhado): \")\n",
        "\n",
        "    preferencias = {\n",
        "        \"Dieta\": dieta,\n",
        "        \"Restrição\": restricao,\n",
        "        \"Preferencia\": preferencia\n",
        "    }\n",
        "\n",
        "    refeicoes_recomendadas = recomendar_refeicoes(preferencias)\n",
        "\n",
        "    if refeicoes_recomendadas:\n",
        "        print(\"Refeições Recomendadas:\")\n",
        "        for refeicao in refeicoes_recomendadas:\n",
        "            print(f\"- {refeicao}\")\n",
        "    else:\n",
        "        print(\"Nenhuma recomendação disponível para suas preferências.\")\n",
        "\n",
        "if __name__ == \"__main__\":\n",
        "    main()\n"
      ]
    }
  ]
}